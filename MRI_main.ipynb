{
  "nbformat": 4,
  "nbformat_minor": 0,
  "metadata": {
    "colab": {
      "provenance": [],
      "authorship_tag": "ABX9TyPMRcW+qeI85juv/tM/bzzz",
      "include_colab_link": true
    },
    "kernelspec": {
      "name": "python3",
      "display_name": "Python 3"
    },
    "language_info": {
      "name": "python"
    }
  },
  "cells": [
    {
      "cell_type": "markdown",
      "metadata": {
        "id": "view-in-github",
        "colab_type": "text"
      },
      "source": [
        "<a href=\"https://colab.research.google.com/github/Konstvv/DL_MRI_reconstriction/blob/main/MRI_main.ipynb\" target=\"_parent\"><img src=\"https://colab.research.google.com/assets/colab-badge.svg\" alt=\"Open In Colab\"/></a>"
      ]
    },
    {
      "cell_type": "markdown",
      "source": [
        "TODO list:\n",
        "1. Find the dataset (High-quality MRI images)\n",
        "* small dataset - https://www.kaggle.com/datasets/masoudnickparvar/brain-tumor-mri-dataset\n",
        "* large dataset - https://fastmri.med.nyu.edu/ (need to request the access)\n",
        "* Something else?\n",
        "\n",
        "2. Preprocess the data\n",
        "\n",
        " 2.1 HQ images -> make them noisy\n",
        "\n",
        " * White noise - every pixel would get a SMALL random increment\n",
        " * Gaussian blur - https://docs.scipy.org/doc/scipy/reference/generated/scipy.ndimage.gaussian_filter.html\n",
        "\n",
        " 2.2 (maybe optional, depends on dataset size) Data augmentation\n",
        " * Rotation (saving the original size)\n",
        " * Zoom\n",
        " * Mirror\n",
        "\n",
        "Training sample - pair of images (clean and corrupted images: label and sample)\n",
        "\n",
        "3. Creation of the model\n",
        "\n",
        "  * Supervised learning paradigm\n",
        "  * Baseline model - CNN architecture (dims of input and output are the same)\n",
        "  * Compare the output to the orginal image:\n",
        "      * PSNR(Peak Signal-to-Noise Ratio)\n",
        "      * SSIM\n",
        "  * Overview of the models: https://arxiv.org/pdf/1912.13171.pdf\n",
        "  * Brain MRI model: https://aapm.onlinelibrary.wiley.com/doi/epdf/10.1002/acm2.13758\n",
        "\n",
        "  * General overview: https://towardsai.net/p/deep-learning/image-de-noising-using-deep-learning\n",
        "\n",
        "4. Tuning and testing\n"
      ],
      "metadata": {
        "id": "VjMl2ebMw1ff"
      }
    },
    {
      "cell_type": "code",
      "source": [
        "## Part 1\n",
        "# Dataset import\n",
        "# Upload it to Google Drive\n",
        "# Fetch the data Google Drive\n",
        "\n",
        "from google.colab import drive\n",
        "drive.mount('/content/drive')"
      ],
      "metadata": {
        "colab": {
          "base_uri": "https://localhost:8080/"
        },
        "id": "qIAFE8VZyDUg",
        "outputId": "a8de9f30-96c6-4ff2-f30f-f8461557b531"
      },
      "execution_count": 1,
      "outputs": [
        {
          "output_type": "stream",
          "name": "stdout",
          "text": [
            "Mounted at /content/drive\n"
          ]
        }
      ]
    },
    {
      "cell_type": "code",
      "source": [
        "import os\n",
        "filepath = '/content/drive/MyDrive'\n",
        "for file in os.listdir(filepath):\n",
        "  print(file)\n",
        "  # Code that imports all the images\n",
        "  # Two options of output:\n",
        "  ## list with all the images (fast, a lot of RAM) -> preferable method\n",
        "  ## create a separate folder with all the images + function to preprocess images in batches"
      ],
      "metadata": {
        "id": "mm3C9H_b48fB"
      },
      "execution_count": null,
      "outputs": []
    },
    {
      "cell_type": "code",
      "source": [
        "## Part 2\n",
        "# Datset preprocessing\n",
        "\n",
        "# Code that creates a clone for every image and generates random noise for it (preferably Gaussian)\n",
        "\n",
        "# Input - a list of images\n",
        "# Output - a list of pairs (each pair - a list of 2 images (clean and noisy))"
      ],
      "metadata": {
        "id": "f9B2BVVW5W_0"
      },
      "execution_count": null,
      "outputs": []
    },
    {
      "cell_type": "code",
      "source": [
        "## Part 3\n",
        "# Model architechture\n",
        "# Keras to create baseline CNN model"
      ],
      "metadata": {
        "id": "XHGojx4P5_gR"
      },
      "execution_count": null,
      "outputs": []
    },
    {
      "cell_type": "code",
      "source": [
        "## Part 4\n",
        "# Evaluation and testing"
      ],
      "metadata": {
        "id": "jJTS9j486Ogv"
      },
      "execution_count": null,
      "outputs": []
    }
  ]
}