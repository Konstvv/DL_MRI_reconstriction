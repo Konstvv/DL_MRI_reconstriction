{
  "nbformat": 4,
  "nbformat_minor": 0,
  "metadata": {
    "colab": {
      "provenance": [],
      "gpuType": "T4",
      "include_colab_link": true
    },
    "kernelspec": {
      "name": "python3",
      "display_name": "Python 3"
    },
    "language_info": {
      "name": "python"
    },
    "accelerator": "GPU"
  },
  "cells": [
    {
      "cell_type": "markdown",
      "metadata": {
        "id": "view-in-github",
        "colab_type": "text"
      },
      "source": [
        "<a href=\"https://colab.research.google.com/github/Konstvv/DL_MRI_reconstriction/blob/main/MRI_main_ipynb_adl%C4%B1_not_defterinin_kopyas%C4%B1.ipynb\" target=\"_parent\"><img src=\"https://colab.research.google.com/assets/colab-badge.svg\" alt=\"Open In Colab\"/></a>"
      ]
    },
    {
      "cell_type": "markdown",
      "source": [
        "TODO list:\n",
        "1. Find the dataset (High-quality MRI images)\n",
        "* small dataset - https://www.kaggle.com/datasets/masoudnickparvar/brain-tumor-mri-dataset\n",
        "* large dataset - https://fastmri.med.nyu.edu/ (need to request the access)\n",
        "* Something else?\n",
        "\n",
        "2. Preprocess the data\n",
        "\n",
        " 2.1 HQ images -> make them noisy\n",
        "\n",
        " * White noise - every pixel would get a SMALL random increment\n",
        " * Gaussian blur - https://docs.scipy.org/doc/scipy/reference/generated/scipy.ndimage.gaussian_filter.html\n",
        "\n",
        " 2.2 (maybe optional, depends on dataset size) Data augmentation\n",
        " * Rotation (saving the original size)\n",
        " * Zoom\n",
        " * Mirror\n",
        "\n",
        "Training sample - pair of images (clean and corrupted images: label and sample)\n",
        "\n",
        "3. Creation of the model\n",
        "\n",
        "  * Supervised learning paradigm\n",
        "  * Baseline model - CNN architecture (dims of input and output are the same)\n",
        "  * Compare the output to the orginal image:\n",
        "      * PSNR(Peak Signal-to-Noise Ratio)\n",
        "      * SSIM\n",
        "  * Overview of the models: https://arxiv.org/pdf/1912.13171.pdf\n",
        "  * Brain MRI model: https://aapm.onlinelibrary.wiley.com/doi/epdf/10.1002/acm2.13758\n",
        "\n",
        "  * General overview: https://towardsai.net/p/deep-learning/image-de-noising-using-deep-learning\n",
        "\n",
        "4. Tuning and testing\n"
      ],
      "metadata": {
        "id": "VjMl2ebMw1ff"
      }
    },
    {
      "cell_type": "code",
      "source": [
        "## Part 1\n",
        "# Dataset import\n",
        "# Upload it to Google Drive\n",
        "# Fetch the data Google Drive\n",
        "\n",
        "from google.colab import drive\n",
        "drive.mount('/content/drive')"
      ],
      "metadata": {
        "colab": {
          "base_uri": "https://localhost:8080/"
        },
        "id": "qIAFE8VZyDUg",
        "outputId": "39e43207-9c76-4f87-bd84-38652a013a11"
      },
      "execution_count": null,
      "outputs": [
        {
          "output_type": "stream",
          "name": "stdout",
          "text": [
            "Mounted at /content/drive\n"
          ]
        }
      ]
    },
    {
      "cell_type": "code",
      "source": [
        "import os\n",
        "!pip install fastmri\n",
        "import h5py\n",
        "import numpy as np\n",
        "from matplotlib import pyplot as plt\n",
        "import fastmri\n",
        "from fastmri.data import transforms as T\n",
        "import os\n",
        "from fastmri.data.subsample import RandomMaskFunc\n",
        "filepath = '/content/drive/MyDrive/multicoil_test/multicoil_test'\n",
        "import cv2\n",
        "from tensorflow.keras.datasets import mnist"
      ],
      "metadata": {
        "id": "E6SI0ZVkiDf8"
      },
      "execution_count": null,
      "outputs": []
    },
    {
      "cell_type": "code",
      "source": [
        "def show_coils(data, slice_nums, cmap=None):\n",
        "    fig = plt.figure()\n",
        "    for integer, num in enumerate(slice_nums):\n",
        "        plt.subplot(1, len(slice_nums), integer + 1)\n",
        "        plt.imshow(data[num], cmap=cmap)\n",
        "\n",
        "real_images = []\n",
        "for filename in os.listdir(filepath):\n",
        "\n",
        "\n",
        "    file_name = os.path.join(filepath, filename)\n",
        "    sz = os.stat(file_name)\n",
        "    print(sz.st_size)\n",
        "    hf = h5py.File(file_name, 'r')\n",
        "    print('Keys:', list(hf.keys()))\n",
        "    print('Attrs:', dict(hf.attrs))\n",
        "    volume_kspace = hf['kspace'][()]\n",
        "    print(volume_kspace.dtype)\n",
        "    print(volume_kspace.shape)\n",
        "\n",
        "    for i in range(0, volume_kspace.shape[0]):\n",
        "        slice_kspace = volume_kspace[i]\n",
        "\n",
        "        slice_kspace2 = T.to_tensor(slice_kspace)  # Convert from numpy array to pytorch tensor\n",
        "        slice_image = fastmri.ifft2c(slice_kspace2)  # Apply Inverse Fourier Transform to get the complex image\n",
        "        slice_image_abs = fastmri.complex_abs(slice_image)  # Compute absolute value to get a real image\n",
        "\n",
        "        slice_image_rss = fastmri.rss(slice_image_abs, dim=0)\n",
        "\n",
        "        real_images.append(np.abs(slice_image_rss.numpy()))\n",
        "\n",
        "        # mask_func = RandomMaskFunc(center_fractions=[0.04], accelerations=[8])  # Create the mask function object\n",
        "        # masked_kspace, mask, _ = T.apply_mask(slice_kspace2, mask_func)  # Apply the mask to k-space\n",
        "\n",
        "        # sampled_image = fastmri.ifft2c(masked_kspace)  # Apply Inverse Fourier Transform to get the complex image\n",
        "        # sampled_image_abs = fastmri.complex_abs(sampled_image)  # Compute absolute value to get a real image\n",
        "        # sampled_image_rss = fastmri.rss(sampled_image_abs, dim=0)\n",
        "\n",
        "        # real_images.append(np.abs(sampled_image_rss.numpy()))  # Append the real image to the list\n",
        "\n",
        "\n",
        "        print(\"Added\")\n",
        "\n",
        "for i in real_images:\n",
        "\n",
        "    plt.imshow(i, cmap='gray')\n",
        "    print(real_images[i])\n",
        "    plt.show()"
      ],
      "metadata": {
        "id": "mm3C9H_b48fB",
        "colab": {
          "base_uri": "https://localhost:8080/",
          "height": 686
        },
        "outputId": "210b8fdd-debb-44d6-c3c2-21ac4457c7af"
      },
      "execution_count": 17,
      "outputs": [
        {
          "output_type": "error",
          "ename": "TypeError",
          "evalue": "ignored",
          "traceback": [
            "\u001b[0;31m---------------------------------------------------------------------------\u001b[0m",
            "\u001b[0;31mTypeError\u001b[0m                                 Traceback (most recent call last)",
            "\u001b[0;32m<ipython-input-17-f99a53c84ef2>\u001b[0m in \u001b[0;36m<cell line: 50>\u001b[0;34m()\u001b[0m\n\u001b[1;32m     51\u001b[0m \u001b[0;34m\u001b[0m\u001b[0m\n\u001b[1;32m     52\u001b[0m     \u001b[0mplt\u001b[0m\u001b[0;34m.\u001b[0m\u001b[0mimshow\u001b[0m\u001b[0;34m(\u001b[0m\u001b[0mi\u001b[0m\u001b[0;34m,\u001b[0m \u001b[0mcmap\u001b[0m\u001b[0;34m=\u001b[0m\u001b[0;34m'gray'\u001b[0m\u001b[0;34m)\u001b[0m\u001b[0;34m\u001b[0m\u001b[0;34m\u001b[0m\u001b[0m\n\u001b[0;32m---> 53\u001b[0;31m     \u001b[0mprint\u001b[0m\u001b[0;34m(\u001b[0m\u001b[0mreal_images\u001b[0m\u001b[0;34m[\u001b[0m\u001b[0mi\u001b[0m\u001b[0;34m]\u001b[0m\u001b[0;34m.\u001b[0m\u001b[0msize\u001b[0m\u001b[0;34m(\u001b[0m\u001b[0;34m)\u001b[0m\u001b[0;34m)\u001b[0m\u001b[0;34m\u001b[0m\u001b[0;34m\u001b[0m\u001b[0m\n\u001b[0m\u001b[1;32m     54\u001b[0m     \u001b[0mplt\u001b[0m\u001b[0;34m.\u001b[0m\u001b[0mshow\u001b[0m\u001b[0;34m(\u001b[0m\u001b[0;34m)\u001b[0m\u001b[0;34m\u001b[0m\u001b[0;34m\u001b[0m\u001b[0m\n",
            "\u001b[0;31mTypeError\u001b[0m: only integer scalar arrays can be converted to a scalar index"
          ]
        },
        {
          "output_type": "display_data",
          "data": {
            "text/plain": [
              "<Figure size 640x480 with 1 Axes>"
            ],
            "image/png": "[encoded data removed]"
          },
          "metadata": {}
        }
      ]
    },
    {
      "cell_type": "code",
      "source": [
        "import tensorflow as tf\n",
        "from tensorflow.keras import Sequential\n",
        "from tensorflow.keras.layers.experimental.preprocessing import RandomFlip, RandomRotation, RandomContrast, RandomZoom\n",
        "\n",
        "class NoiseLayer(tf.keras.layers.Layer):\n",
        "  def __init__(self, noise_type='gauss'):\n",
        "    super(NoiseLayer, self).__init__()\n",
        "    self.noise_type = noise_type\n",
        "\n",
        "  def build(self, input_shape):\n",
        "    pass\n",
        "\n",
        "  def call(self, inputs):\n",
        "    if self.noise_type == \"gauss\":\n",
        "        mean = 0\n",
        "        var = 0.1\n",
        "        gauss = np.random.normal(mean, var**0.5, inputs.shape)\n",
        "        gauss = gauss.reshape(*inputs.shape)\n",
        "        noisy = inputs + gauss\n",
        "        return noisy\n",
        "    elif self.noise_type == \"poisson\":\n",
        "        peak = 5\n",
        "        noisy = np.random.poisson(inputs * peak) / float(peak)\n",
        "        return noisy\n",
        "\n",
        "data_augmentation = Sequential([\n",
        "    RandomFlip(\"horizontal_and_vertical\"),\n",
        "    RandomZoom(0.1, fill_mode='nearest'),\n",
        "    RandomRotation(0.2, fill_mode='nearest'),\n",
        "    RandomContrast(0.3),\n",
        "    NoiseLayer(noise_type='poisson')])\n",
        "\n",
        "def noisy_data(real_images):\n",
        "    real_images = [cv2.resize(img, (640, 320)) for img in real_images]\n",
        "\n",
        "    augmented_images = data_augmentation(real_images)\n",
        "    noisy_images = tf.clip_by_value(augmented_images, 0., 1.)\n",
        "\n",
        "    return noisy_images"
      ],
      "metadata": {
        "id": "_u8RroSOdZgC"
      },
      "execution_count": 8,
      "outputs": []
    },
    {
      "cell_type": "code",
      "source": [
        "real_images = np.asarray(real_images).astype('float32') / 255.\n",
        "# test_data = test_data.astype('float32') / 255.\n",
        "\n",
        "noisy_images = noisy_data(real_images)\n",
        "# noisy_test = noisy_data(test_data)"
      ],
      "metadata": {
        "id": "H1Mom0TZRPUA"
      },
      "execution_count": 9,
      "outputs": []
    },
    {
      "cell_type": "code",
      "source": [
        "## Part 3\n",
        "# Model architechture\n",
        "# Keras to create baseline CNN model\n",
        "\n",
        "from tensorflow.keras import layers\n",
        "from tensorflow.keras.models import Model\n",
        "\n",
        "input = layers.Input(shape=(320, 640, 1))\n",
        "\n",
        "# Encoder\n",
        "x = layers.Conv2D(32, (3, 3), activation=\"relu\", padding=\"same\")(input)\n",
        "x = layers.MaxPooling2D((2, 2), padding=\"same\")(x)\n",
        "x = layers.Conv2D(32, (3, 3), activation=\"relu\", padding=\"same\")(x)\n",
        "x = layers.MaxPooling2D((2, 2), padding=\"same\")(x)\n",
        "\n",
        "# Decoder\n",
        "x = layers.Conv2DTranspose(32, (3, 3), strides=2, activation=\"relu\", padding=\"same\")(x)\n",
        "x = layers.Conv2DTranspose(32, (3, 3), strides=2, activation=\"relu\", padding=\"same\")(x)\n",
        "x = layers.Conv2D(1, (3, 3), activation=\"sigmoid\", padding=\"same\")(x)\n",
        "\n",
        "# Autoencoder\n",
        "autoencoder = Model(input, x)\n",
        "autoencoder.compile(optimizer=\"adam\", loss=\"binary_crossentropy\")\n",
        "autoencoder.summary()"
      ],
      "metadata": {
        "id": "XHGojx4P5_gR",
        "outputId": "a956e941-8bcb-410a-c67c-7804cd722de0",
        "colab": {
          "base_uri": "https://localhost:8080/"
        }
      },
      "execution_count": 13,
      "outputs": [
        {
          "output_type": "stream",
          "name": "stdout",
          "text": [
            "Model: \"model_1\"\n",
            "_________________________________________________________________\n",
            " Layer (type)                Output Shape              Param #   \n",
            "=================================================================\n",
            " input_2 (InputLayer)        [(None, 320, 640, 1)]     0         \n",
            "                                                                 \n",
            " conv2d_3 (Conv2D)           (None, 320, 640, 32)      320       \n",
            "                                                                 \n",
            " max_pooling2d_2 (MaxPoolin  (None, 160, 320, 32)      0         \n",
            " g2D)                                                            \n",
            "                                                                 \n",
            " conv2d_4 (Conv2D)           (None, 160, 320, 32)      9248      \n",
            "                                                                 \n",
            " max_pooling2d_3 (MaxPoolin  (None, 80, 160, 32)       0         \n",
            " g2D)                                                            \n",
            "                                                                 \n",
            " conv2d_transpose_2 (Conv2D  (None, 160, 320, 32)      9248      \n",
            " Transpose)                                                      \n",
            "                                                                 \n",
            " conv2d_transpose_3 (Conv2D  (None, 320, 640, 32)      9248      \n",
            " Transpose)                                                      \n",
            "                                                                 \n",
            " conv2d_5 (Conv2D)           (None, 320, 640, 1)       289       \n",
            "                                                                 \n",
            "=================================================================\n",
            "Total params: 28353 (110.75 KB)\n",
            "Trainable params: 28353 (110.75 KB)\n",
            "Non-trainable params: 0 (0.00 Byte)\n",
            "_________________________________________________________________\n"
          ]
        }
      ]
    },
    {
      "cell_type": "code",
      "source": [
        "autoencoder.fit(\n",
        "    x=noisy_images,\n",
        "    y=real_images,\n",
        "    epochs=50,\n",
        "    batch_size=128,\n",
        "    shuffle=True,\n",
        "    # validation_data=(noisy_test, test_data),\n",
        ")"
      ],
      "metadata": {
        "id": "EsHLkvwFR5Yk",
        "outputId": "2e1c09fa-acf2-47d0-80d4-f5ca072d9865",
        "colab": {
          "base_uri": "https://localhost:8080/",
          "height": 1000
        }
      },
      "execution_count": 14,
      "outputs": [
        {
          "output_type": "stream",
          "name": "stdout",
          "text": [
            "Epoch 1/50\n"
          ]
        },
        {
          "output_type": "error",
          "ename": "ValueError",
          "evalue": "ignored",
          "traceback": [
            "\u001b[0;31m---------------------------------------------------------------------------\u001b[0m",
            "\u001b[0;31mValueError\u001b[0m                                Traceback (most recent call last)",
            "\u001b[0;32m<ipython-input-14-d8dca4ef430c>\u001b[0m in \u001b[0;36m<cell line: 1>\u001b[0;34m()\u001b[0m\n\u001b[0;32m----> 1\u001b[0;31m autoencoder.fit(\n\u001b[0m\u001b[1;32m      2\u001b[0m     \u001b[0mx\u001b[0m\u001b[0;34m=\u001b[0m\u001b[0mnoisy_images\u001b[0m\u001b[0;34m,\u001b[0m\u001b[0;34m\u001b[0m\u001b[0;34m\u001b[0m\u001b[0m\n\u001b[1;32m      3\u001b[0m     \u001b[0my\u001b[0m\u001b[0;34m=\u001b[0m\u001b[0mreal_images\u001b[0m\u001b[0;34m,\u001b[0m\u001b[0;34m\u001b[0m\u001b[0;34m\u001b[0m\u001b[0m\n\u001b[1;32m      4\u001b[0m     \u001b[0mepochs\u001b[0m\u001b[0;34m=\u001b[0m\u001b[0;36m50\u001b[0m\u001b[0;34m,\u001b[0m\u001b[0;34m\u001b[0m\u001b[0;34m\u001b[0m\u001b[0m\n\u001b[1;32m      5\u001b[0m     \u001b[0mbatch_size\u001b[0m\u001b[0;34m=\u001b[0m\u001b[0;36m128\u001b[0m\u001b[0;34m,\u001b[0m\u001b[0;34m\u001b[0m\u001b[0;34m\u001b[0m\u001b[0m\n",
            "\u001b[0;32m/usr/local/lib/python3.10/dist-packages/keras/src/utils/traceback_utils.py\u001b[0m in \u001b[0;36merror_handler\u001b[0;34m(*args, **kwargs)\u001b[0m\n\u001b[1;32m     68\u001b[0m             \u001b[0;31m# To get the full stack trace, call:\u001b[0m\u001b[0;34m\u001b[0m\u001b[0;34m\u001b[0m\u001b[0m\n\u001b[1;32m     69\u001b[0m             \u001b[0;31m# `tf.debugging.disable_traceback_filtering()`\u001b[0m\u001b[0;34m\u001b[0m\u001b[0;34m\u001b[0m\u001b[0m\n\u001b[0;32m---> 70\u001b[0;31m             \u001b[0;32mraise\u001b[0m \u001b[0me\u001b[0m\u001b[0;34m.\u001b[0m\u001b[0mwith_traceback\u001b[0m\u001b[0;34m(\u001b[0m\u001b[0mfiltered_tb\u001b[0m\u001b[0;34m)\u001b[0m \u001b[0;32mfrom\u001b[0m \u001b[0;32mNone\u001b[0m\u001b[0;34m\u001b[0m\u001b[0;34m\u001b[0m\u001b[0m\n\u001b[0m\u001b[1;32m     71\u001b[0m         \u001b[0;32mfinally\u001b[0m\u001b[0;34m:\u001b[0m\u001b[0;34m\u001b[0m\u001b[0;34m\u001b[0m\u001b[0m\n\u001b[1;32m     72\u001b[0m             \u001b[0;32mdel\u001b[0m \u001b[0mfiltered_tb\u001b[0m\u001b[0;34m\u001b[0m\u001b[0;34m\u001b[0m\u001b[0m\n",
            "\u001b[0;32m/usr/local/lib/python3.10/dist-packages/keras/src/engine/training.py\u001b[0m in \u001b[0;36mtf__train_function\u001b[0;34m(iterator)\u001b[0m\n\u001b[1;32m     13\u001b[0m                 \u001b[0;32mtry\u001b[0m\u001b[0;34m:\u001b[0m\u001b[0;34m\u001b[0m\u001b[0;34m\u001b[0m\u001b[0m\n\u001b[1;32m     14\u001b[0m                     \u001b[0mdo_return\u001b[0m \u001b[0;34m=\u001b[0m \u001b[0;32mTrue\u001b[0m\u001b[0;34m\u001b[0m\u001b[0;34m\u001b[0m\u001b[0m\n\u001b[0;32m---> 15\u001b[0;31m                     \u001b[0mretval_\u001b[0m \u001b[0;34m=\u001b[0m \u001b[0mag__\u001b[0m\u001b[0;34m.\u001b[0m\u001b[0mconverted_call\u001b[0m\u001b[0;34m(\u001b[0m\u001b[0mag__\u001b[0m\u001b[0;34m.\u001b[0m\u001b[0mld\u001b[0m\u001b[0;34m(\u001b[0m\u001b[0mstep_function\u001b[0m\u001b[0;34m)\u001b[0m\u001b[0;34m,\u001b[0m \u001b[0;34m(\u001b[0m\u001b[0mag__\u001b[0m\u001b[0;34m.\u001b[0m\u001b[0mld\u001b[0m\u001b[0;34m(\u001b[0m\u001b[0mself\u001b[0m\u001b[0;34m)\u001b[0m\u001b[0;34m,\u001b[0m \u001b[0mag__\u001b[0m\u001b[0;34m.\u001b[0m\u001b[0mld\u001b[0m\u001b[0;34m(\u001b[0m\u001b[0miterator\u001b[0m\u001b[0;34m)\u001b[0m\u001b[0;34m)\u001b[0m\u001b[0;34m,\u001b[0m \u001b[0;32mNone\u001b[0m\u001b[0;34m,\u001b[0m \u001b[0mfscope\u001b[0m\u001b[0;34m)\u001b[0m\u001b[0;34m\u001b[0m\u001b[0;34m\u001b[0m\u001b[0m\n\u001b[0m\u001b[1;32m     16\u001b[0m                 \u001b[0;32mexcept\u001b[0m\u001b[0;34m:\u001b[0m\u001b[0;34m\u001b[0m\u001b[0;34m\u001b[0m\u001b[0m\n\u001b[1;32m     17\u001b[0m                     \u001b[0mdo_return\u001b[0m \u001b[0;34m=\u001b[0m \u001b[0;32mFalse\u001b[0m\u001b[0;34m\u001b[0m\u001b[0;34m\u001b[0m\u001b[0m\n",
            "\u001b[0;31mValueError\u001b[0m: in user code:\n\n    File \"/usr/local/lib/python3.10/dist-packages/keras/src/engine/training.py\", line 1338, in train_function  *\n        return step_function(self, iterator)\n    File \"/usr/local/lib/python3.10/dist-packages/keras/src/engine/training.py\", line 1322, in step_function  **\n        outputs = model.distribute_strategy.run(run_step, args=(data,))\n    File \"/usr/local/lib/python3.10/dist-packages/keras/src/engine/training.py\", line 1303, in run_step  **\n        outputs = model.train_step(data)\n    File \"/usr/local/lib/python3.10/dist-packages/keras/src/engine/training.py\", line 1080, in train_step\n        y_pred = self(x, training=True)\n    File \"/usr/local/lib/python3.10/dist-packages/keras/src/utils/traceback_utils.py\", line 70, in error_handler\n        raise e.with_traceback(filtered_tb) from None\n    File \"/usr/local/lib/python3.10/dist-packages/keras/src/engine/input_spec.py\", line 280, in assert_input_compatibility\n        raise ValueError(\n\n    ValueError: Exception encountered when calling layer 'model_1' (type Functional).\n    \n    Input 0 of layer \"conv2d_3\" is incompatible with the layer: expected axis -1 of input shape to have value 1, but received input with shape (None, 320, 640, 3)\n    \n    Call arguments received by layer 'model_1' (type Functional):\n      • inputs=tf.Tensor(shape=(None, 320, 640, 3), dtype=float64)\n      • training=True\n      • mask=None\n"
          ]
        }
      ]
    },
    {
      "cell_type": "code",
      "source": [
        "## Part 4\n",
        "# Evaluation and testing"
      ],
      "metadata": {
        "id": "jJTS9j486Ogv"
      },
      "execution_count": null,
      "outputs": []
    }
  ]
}